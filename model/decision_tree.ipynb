{
 "cells": [
  {
   "cell_type": "code",
   "execution_count": 1,
   "metadata": {},
   "outputs": [],
   "source": [
    "from connector.pg_connector import get_data\n",
    "from util.util import save_model, load_model\n",
    "from conf.conf import logging, settings\n",
    "from sklearn.preprocessing import StandardScaler\n",
    "from sklearn.model_selection import train_test_split\n",
    "from sklearn.tree import DecisionTreeClassifier"
   ]
  },
  {
   "cell_type": "code",
   "execution_count": 2,
   "metadata": {},
   "outputs": [],
   "source": [
    "def split(df):\n",
    "\n",
    "    logging.info('Defining X and Y')\n",
    "    # Variables\n",
    "    X = df.iloc[:, :-1]\n",
    "    y = df['target']\n",
    "\n",
    "    logging.info('Splitting dataset begins...')\n",
    "\n",
    "    # Split variables into train and test\n",
    "    X_train, X_test, y_train, y_test = train_test_split(X,  # independent variables\n",
    "                                                        y,  # dependent variable\n",
    "                                                        random_state=3\n",
    "                                                        )\n",
    "    logging.info('Splitting dataset is over...')\n",
    "    return X_train, X_test, y_train, y_test"
   ]
  },
  {
   "cell_type": "code",
   "execution_count": 3,
   "metadata": {},
   "outputs": [],
   "source": [
    "def train_decision_tree(X_train, y_train):\n",
    "    # Initialize the model\n",
    "    clf = DecisionTreeClassifier(max_depth=3,\n",
    "                                 random_state=3\n",
    "                                 )\n",
    "    # Train the model\n",
    "    logging.info('Training model begins...')\n",
    "    clf.fit(X_train, y_train)\n",
    "    logging.info('Training model is over.')\n",
    "    logging.info('Saving model...')\n",
    "    save_model(dir='model/conf/decision_tree.pkl', model=clf)\n",
    "    logging.info('Model is saved.')\n",
    "    return clf"
   ]
  },
  {
   "cell_type": "code",
   "execution_count": 4,
   "metadata": {},
   "outputs": [],
   "source": [
    "def predict(values, path_to_model):\n",
    "    clf = load_model(path_to_model)\n",
    "    return clf.predict(values)"
   ]
  },
  {
   "cell_type": "code",
   "execution_count": 5,
   "metadata": {},
   "outputs": [
    {
     "name": "stderr",
     "output_type": "stream",
     "text": [
      "INFO:root:Extracting df\n"
     ]
    },
    {
     "name": "stdout",
     "output_type": "stream",
     "text": [
      "parameter https://raw.githubusercontent.com/5x12/ml-cookbook/master/supplements/data/heart.csv\n"
     ]
    },
    {
     "name": "stderr",
     "output_type": "stream",
     "text": [
      "INFO:root:Df is extracted\n",
      "INFO:root:Defining X and Y\n",
      "INFO:root:Splitting dataset begins...\n",
      "INFO:root:Splitting dataset is over...\n"
     ]
    }
   ],
   "source": [
    "print(f\"parameter {settings.data.data_set}\")\n",
    "df = get_data(settings.data.data_set)\n",
    "# print(df.info())\n",
    "X_train, X_test, y_train, y_test = split(df)\n",
    "scaler = StandardScaler()\n",
    "X_train = scaler.fit_transform(X_train)\n",
    "X_test = scaler.transform(X_test)"
   ]
  },
  {
   "cell_type": "code",
   "execution_count": 6,
   "metadata": {},
   "outputs": [
    {
     "name": "stderr",
     "output_type": "stream",
     "text": [
      "INFO:root:Training model begins...\n",
      "INFO:root:Training model is over...\n",
      "INFO:root:Saving model...\n",
      "INFO:root:Model is saved...\n",
      "INFO:root:Accuracy is 0.8287937743190662\n"
     ]
    }
   ],
   "source": [
    "clf = train_decision_tree(X_train, y_train)\n",
    "logging.info(f'Accuracy is {clf.score(X_test, y_test)}')"
   ]
  },
  {
   "cell_type": "code",
   "execution_count": 7,
   "metadata": {},
   "outputs": [
    {
     "name": "stderr",
     "output_type": "stream",
     "text": [
      "INFO:root:Prediction is [1 0 1 0 0 1 0 1 1 1 0 1 0 1 0 1 0 1 1 0 0 0 1 1 1 1 0 1 1 1 1 1 1 0 0 1 1\n",
      " 1 1 0 1 1 0 1 0 1 1 1 1 0 1 1 1 1 0 1 1 1 1 1 1 0 1 1 0 0 0 0 0 0 0 1 0 1\n",
      " 1 0 0 0 1 1 1 1 1 1 0 1 0 1 1 1 1 0 1 0 1 0 0 1 0 0 1 1 1 1 0 1 1 1 1 0 1\n",
      " 1 1 1 1 1 1 1 1 1 0 0 0 1 0 0 1 0 1 0 1 0 0 0 0 1 1 0 1 1 1 0 1 1 1 1 0 0\n",
      " 1 1 0 0 0 1 0 1 0 1 1 1 0 0 0 1 1 1 0 1 1 1 0 1 0 1 0 1 1 1 0 0 0 0 1 1 1\n",
      " 1 1 1 1 0 1 1 0 1 1 0 0 1 0 0 0 0 1 1 1 0 1 1 0 1 1 1 0 0 1 0 1 1 1 1 1 1\n",
      " 1 1 0 0 0 1 1 0 0 1 1 1 0 1 0 0 1 1 0 1 1 0 1 1 0 1 1 0 1 1 0 1 0 1 1]\n"
     ]
    }
   ],
   "source": [
    "responce = predict(X_test, 'model/conf/decision_tree.pkl')\n",
    "logging.info(f'Prediction is {responce}')"
   ]
  },
  {
   "cell_type": "code",
   "execution_count": null,
   "metadata": {},
   "outputs": [],
   "source": []
  },
  {
   "cell_type": "code",
   "execution_count": null,
   "metadata": {},
   "outputs": [],
   "source": []
  }
 ],
 "metadata": {
  "kernelspec": {
   "display_name": "Python 3",
   "language": "python",
   "name": "python3"
  },
  "language_info": {
   "codemirror_mode": {
    "name": "ipython",
    "version": 3
   },
   "file_extension": ".py",
   "mimetype": "text/x-python",
   "name": "python",
   "nbconvert_exporter": "python",
   "pygments_lexer": "ipython3",
   "version": "3.8.3"
  }
 },
 "nbformat": 4,
 "nbformat_minor": 4
}
